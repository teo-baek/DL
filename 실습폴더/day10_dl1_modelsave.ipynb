{
 "cells": [
  {
   "cell_type": "markdown",
   "id": "f010dbad",
   "metadata": {},
   "source": [
    "# 파이토치 모델 저장 및 불러오기"
   ]
  },
  {
   "cell_type": "code",
   "execution_count": 4,
   "id": "c1291c34",
   "metadata": {},
   "outputs": [],
   "source": [
    "import torch\n",
    "import torch.nn as nn"
   ]
  },
  {
   "cell_type": "markdown",
   "id": "7e6d2b80",
   "metadata": {},
   "source": [
    "# 모델 저장 방법 1: 가중치만 저장"
   ]
  },
  {
   "cell_type": "code",
   "execution_count": 5,
   "id": "f8b113e9",
   "metadata": {},
   "outputs": [],
   "source": [
    "class SimpleModel(nn.Module):\n",
    "    def __init__(self):\n",
    "        super(SimpleModel, self).__init__()\n",
    "        self.fc = nn.Linear(10, 2)\n",
    "\n",
    "    def forward(self, x):\n",
    "        return self.fc(x)\n",
    "    \n",
    "model = SimpleModel()\n",
    "\n",
    "# 학습 후\n",
    "\n",
    "torch.save(model.state_dict(), 'SimpleModel_weight.pth')\n"
   ]
  },
  {
   "cell_type": "code",
   "execution_count": 6,
   "id": "f9b8c45a",
   "metadata": {},
   "outputs": [
    {
     "data": {
      "text/plain": [
       "OrderedDict([('fc.weight',\n",
       "              tensor([[-0.1771,  0.2496, -0.1192,  0.0840,  0.3109, -0.1650, -0.1026, -0.2667,\n",
       "                       -0.2862, -0.0154],\n",
       "                      [ 0.1266,  0.3145, -0.1814,  0.1993,  0.0129,  0.2324,  0.2647,  0.3049,\n",
       "                        0.2983, -0.1996]])),\n",
       "             ('fc.bias', tensor([ 0.0532, -0.1364]))])"
      ]
     },
     "execution_count": 6,
     "metadata": {},
     "output_type": "execute_result"
    }
   ],
   "source": [
    "model.state_dict()"
   ]
  },
  {
   "cell_type": "markdown",
   "id": "bf6129a0",
   "metadata": {},
   "source": [
    "# 모델 저장 방법2: 모델 전체 저장"
   ]
  },
  {
   "cell_type": "code",
   "execution_count": 10,
   "id": "bf7953f7",
   "metadata": {},
   "outputs": [],
   "source": [
    "class SimpleModel(nn.Module):\n",
    "    def __init__(self):\n",
    "        super(SimpleModel, self).__init__()\n",
    "        self.fc = nn.Linear(10, 2)\n",
    "\n",
    "    def forward(self, x):\n",
    "        return self.fc(x)\n",
    "    \n",
    "model = SimpleModel()\n",
    "\n",
    "torch.save(model, 'SimpleModel.pth')"
   ]
  },
  {
   "cell_type": "code",
   "execution_count": 8,
   "id": "2b7d4d30",
   "metadata": {},
   "outputs": [],
   "source": [
    "class SimpleModel(nn.Module):\n",
    "    def __init__(self):\n",
    "        super().__init__()\n",
    "        self.fc = nn.Linear(10, 2)\n",
    "\n",
    "    def forward(self, x):\n",
    "        return self.fc(x)\n",
    "    \n",
    "model = SimpleModel()\n",
    "\n",
    "scripted_model = torch.jit.script(model)\n",
    "scripted_model.save(\"SimpleModel_full.pth\")\n",
    "# torch.save(model, 'SimpleModel_01')"
   ]
  }
 ],
 "metadata": {
  "kernelspec": {
   "display_name": "dl",
   "language": "python",
   "name": "python3"
  },
  "language_info": {
   "codemirror_mode": {
    "name": "ipython",
    "version": 3
   },
   "file_extension": ".py",
   "mimetype": "text/x-python",
   "name": "python",
   "nbconvert_exporter": "python",
   "pygments_lexer": "ipython3",
   "version": "3.12.11"
  }
 },
 "nbformat": 4,
 "nbformat_minor": 5
}
