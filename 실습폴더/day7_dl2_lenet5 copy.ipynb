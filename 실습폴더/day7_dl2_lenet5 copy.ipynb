{
 "cells": [
  {
   "cell_type": "code",
   "execution_count": 2,
   "id": "165265cc",
   "metadata": {},
   "outputs": [],
   "source": [
    "import torch\n",
    "import torch.nn as nn\n",
    "import torch.nn.functional as F\n",
    "from torch.optim import Adam\n",
    "from torchvision import datasets\n",
    "import torchvision.transforms as transforms\n",
    "from tensorboardX import SummaryWriter"
   ]
  },
  {
   "cell_type": "code",
   "execution_count": 3,
   "id": "7daac7f7",
   "metadata": {},
   "outputs": [],
   "source": [
    "data_transform = transforms.Compose(\n",
    "    [\n",
    "        transforms.ToTensor(),\n",
    "        transforms.Resize(32),\n",
    "        transforms.Normalize((0.5),(1.0))\n",
    "    ]\n",
    ")\n",
    "\n",
    "train_data = datasets.MNIST(root= './', train= True, download= True, transform= data_transform)\n",
    "test_data = datasets.MNIST(root= './', train= False, download= True, transform= data_transform)"
   ]
  },
  {
   "cell_type": "code",
   "execution_count": 4,
   "id": "e9039bae",
   "metadata": {},
   "outputs": [],
   "source": [
    "from torch.utils.data import DataLoader\n",
    "\n",
    "train_loader = DataLoader(train_data, batch_size= 32, shuffle= True)\n",
    "test_loader = DataLoader(test_data, batch_size= 32)"
   ]
  },
  {
   "cell_type": "code",
   "execution_count": 5,
   "id": "a55737f9",
   "metadata": {},
   "outputs": [
    {
     "name": "stdout",
     "output_type": "stream",
     "text": [
      "torch.Size([32, 1, 32, 32])\n"
     ]
    }
   ],
   "source": [
    "data, label = next(iter(train_loader))\n",
    "print(data.shape)"
   ]
  },
  {
   "cell_type": "code",
   "execution_count": 9,
   "id": "bafcde1e",
   "metadata": {},
   "outputs": [
    {
     "data": {
      "text/plain": [
       "Lenet(\n",
       "  (conv1): Conv2d(1, 6, kernel_size=(5, 5), stride=(1, 1))\n",
       "  (conv2): Conv2d(6, 16, kernel_size=(5, 5), stride=(1, 1))\n",
       "  (conv3): Conv2d(16, 120, kernel_size=(5, 5), stride=(1, 1))\n",
       "  (fc1): Linear(in_features=120, out_features=84, bias=True)\n",
       "  (fc2): Linear(in_features=84, out_features=10, bias=True)\n",
       ")"
      ]
     },
     "execution_count": 9,
     "metadata": {},
     "output_type": "execute_result"
    }
   ],
   "source": [
    "class Lenet(nn.Module):\n",
    "    def __init__(self):\n",
    "        super(Lenet, self).__init__()\n",
    "        self.conv1 = nn.Conv2d(in_channels= 1, out_channels= 6, kernel_size= 5, stride= 1)\n",
    "        self.conv2 = nn.Conv2d(in_channels= 6, out_channels= 16, kernel_size= 5, stride= 1)\n",
    "        self.conv3 = nn.Conv2d(in_channels= 16, out_channels= 120, kernel_size= 5, stride= 1)\n",
    "        self.fc1 = nn.Linear(in_features= 120, out_features= 84)\n",
    "        self.fc2 = nn.Linear(in_features= 84, out_features= 10)\n",
    "\n",
    "    def forward(self, x):\n",
    "        x = self.conv1(x)\n",
    "        x = F.tanh(x)\n",
    "        x = F.max_pool2d(x, 2, 2)\n",
    "\n",
    "        x = self.conv2(x)\n",
    "        x = F.tanh(x)\n",
    "        x = F.max_pool2d(x, 2, 2)\n",
    "\n",
    "        x = self.conv3(x)\n",
    "        x = F.tanh(x)\n",
    "        x = x.view(-1, 120)\n",
    "\n",
    "        x = self.fc1(x)\n",
    "        x = F.tanh(x)\n",
    "\n",
    "        x = self.fc2(x)\n",
    "\n",
    "        return x\n",
    "    \n",
    "\n",
    "model = Lenet()\n",
    "model"
   ]
  },
  {
   "cell_type": "code",
   "execution_count": 7,
   "id": "bbc3e6b2",
   "metadata": {},
   "outputs": [
    {
     "name": "stdout",
     "output_type": "stream",
     "text": [
      "=================================================================\n",
      "Layer (type:depth-idx)                   Param #\n",
      "=================================================================\n",
      "├─Conv2d: 1-1                            156\n",
      "├─Conv2d: 1-2                            2,416\n",
      "├─Conv2d: 1-3                            48,120\n",
      "├─Linear: 1-4                            10,164\n",
      "├─Linear: 1-5                            850\n",
      "=================================================================\n",
      "Total params: 61,706\n",
      "Trainable params: 61,706\n",
      "Non-trainable params: 0\n",
      "=================================================================\n"
     ]
    },
    {
     "data": {
      "text/plain": [
       "=================================================================\n",
       "Layer (type:depth-idx)                   Param #\n",
       "=================================================================\n",
       "├─Conv2d: 1-1                            156\n",
       "├─Conv2d: 1-2                            2,416\n",
       "├─Conv2d: 1-3                            48,120\n",
       "├─Linear: 1-4                            10,164\n",
       "├─Linear: 1-5                            850\n",
       "=================================================================\n",
       "Total params: 61,706\n",
       "Trainable params: 61,706\n",
       "Non-trainable params: 0\n",
       "================================================================="
      ]
     },
     "execution_count": 7,
     "metadata": {},
     "output_type": "execute_result"
    }
   ],
   "source": [
    "from torchsummary import summary\n",
    "\n",
    "summary(model, input_size= (1, 32, 32))"
   ]
  },
  {
   "cell_type": "code",
   "execution_count": 10,
   "id": "e45535e1",
   "metadata": {},
   "outputs": [
    {
     "name": "stdout",
     "output_type": "stream",
     "text": [
      "1 loss: 0.4039618968963623\n",
      "2 loss: 0.0985371470451355\n",
      "3 loss: 0.017387568950653076\n",
      "4 loss: 0.007855194620788097\n",
      "5 loss: 0.017101043835282326\n",
      "6 loss: 0.0018982278415933251\n",
      "7 loss: 0.0005978188710287213\n",
      "8 loss: 0.04054940119385719\n",
      "9 loss: 0.016384029760956764\n",
      "10 loss: 0.004465547390282154\n"
     ]
    }
   ],
   "source": [
    "lr = 1e-3\n",
    "optim = Adam(model.parameters(), lr= lr)\n",
    "epochs = 10\n",
    "criterion = nn.CrossEntropyLoss()\n",
    "\n",
    "device = 'cuda' if torch.cuda.is_available else 'cpu'\n",
    "model.to(device)\n",
    "\n",
    "writer = SummaryWriter()\n",
    "\n",
    "step = 0\n",
    "\n",
    "for epoch in range(epochs):\n",
    "    for data, label in train_loader:\n",
    "        data, label = data.to(device), label.to(device)\n",
    "        optim.zero_grad()\n",
    "        pred = model(data)\n",
    "        loss = criterion(pred, label)\n",
    "        loss.backward()\n",
    "        optim.step()\n",
    "        writer.add_scalar('loss/train', loss, step)\n",
    "        step += 1\n",
    "\n",
    "    print(f'{epoch+1} loss: {loss.item()}')"
   ]
  }
 ],
 "metadata": {
  "kernelspec": {
   "display_name": "dl",
   "language": "python",
   "name": "python3"
  },
  "language_info": {
   "codemirror_mode": {
    "name": "ipython",
    "version": 3
   },
   "file_extension": ".py",
   "mimetype": "text/x-python",
   "name": "python",
   "nbconvert_exporter": "python",
   "pygments_lexer": "ipython3",
   "version": "3.12.11"
  }
 },
 "nbformat": 4,
 "nbformat_minor": 5
}
