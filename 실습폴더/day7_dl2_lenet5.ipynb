{
 "cells": [
  {
   "cell_type": "code",
   "execution_count": 10,
   "id": "45ee6097",
   "metadata": {},
   "outputs": [],
   "source": [
    "import torch\n",
    "import torch.nn as nn\n",
    "import torch.nn.functional as F\n",
    "from torch.optim import Adam\n",
    "from torchvision import datasets\n",
    "import torchvision.transforms as transforms\n",
    "from tensorboardX import SummaryWriter\n",
    "from PIL import Image"
   ]
  },
  {
   "cell_type": "code",
   "execution_count": 2,
   "id": "5bb6fead",
   "metadata": {},
   "outputs": [],
   "source": [
    "data_transform = transforms.Compose(\n",
    "    [\n",
    "        transforms.ToTensor(),\n",
    "        transforms.Resize((32, 32)),\n",
    "        transforms.Normalize((0.5,),(1.0,))     # 과적합을 방지하기 위해서 정규화를 시켜줌. ex. 빨간 것은 사과로 잘못 판단함.\n",
    "\n",
    "    ]\n",
    ")\n",
    "\n",
    "train_data = datasets.MNIST(root= './', train= True, download= True, transform= data_transform)\n",
    "test_data = datasets.MNIST(root= './', train= False, download= True, transform= data_transform)"
   ]
  },
  {
   "cell_type": "code",
   "execution_count": 3,
   "id": "50c63696",
   "metadata": {},
   "outputs": [],
   "source": [
    "from torch.utils.data import DataLoader\n",
    "\n",
    "train_loader = DataLoader(train_data, batch_size= 32, shuffle= True)\n",
    "test_loader = DataLoader(test_data, batch_size= 32)"
   ]
  },
  {
   "cell_type": "code",
   "execution_count": 4,
   "id": "d06429e0",
   "metadata": {},
   "outputs": [
    {
     "name": "stdout",
     "output_type": "stream",
     "text": [
      "torch.Size([32, 1, 32, 32])\n"
     ]
    }
   ],
   "source": [
    "data, label = next(iter(train_loader))\n",
    "print(data.shape)"
   ]
  },
  {
   "cell_type": "code",
   "execution_count": 5,
   "id": "8e9f37fd",
   "metadata": {},
   "outputs": [
    {
     "data": {
      "text/plain": [
       "Lenet(\n",
       "  (conv1): Conv2d(1, 6, kernel_size=(5, 5), stride=(1, 1))\n",
       "  (conv2): Conv2d(6, 16, kernel_size=(5, 5), stride=(1, 1))\n",
       "  (conv3): Conv2d(16, 120, kernel_size=(5, 5), stride=(1, 1))\n",
       "  (fc1): Linear(in_features=120, out_features=84, bias=True)\n",
       "  (fc2): Linear(in_features=84, out_features=10, bias=True)\n",
       ")"
      ]
     },
     "execution_count": 5,
     "metadata": {},
     "output_type": "execute_result"
    }
   ],
   "source": [
    "class Lenet(nn.Module):     # 클래스 이름의 첫 글자는 무조건 대문자를 쓴다.\n",
    "    def __init__(self):\n",
    "        super(Lenet, self).__init__()\n",
    "        self.conv1 = nn.Conv2d(in_channels= 1, out_channels= 6, kernel_size= 5, stride= 1)\n",
    "        self.conv2 = nn.Conv2d(in_channels= 6, out_channels= 16, kernel_size= 5, stride= 1)\n",
    "        self.conv3 = nn.Conv2d(in_channels= 16, out_channels= 120, kernel_size= 5, stride= 1)\n",
    "        self.fc1 = nn.Linear(in_features= 120, out_features= 84)\n",
    "        self.fc2 = nn.Linear(in_features= 84, out_features= 10)\n",
    "\n",
    "    def forward(self, x):\n",
    "        x = self.conv1(x)\n",
    "        x = F.tanh(x)       # 6, 28, 28\n",
    "        x = F.max_pool2d(x, 2, 2)       # 6, 14, 14 Subsampling\n",
    "        \n",
    "        x = self.conv2(x)\n",
    "        x = F.tanh(x)\n",
    "        x = F.max_pool2d(x, 2, 2)\n",
    "\n",
    "        x = self.conv3(x)\n",
    "        x = F.tanh(x)\n",
    "        x = x.view(-1, 120)\n",
    "\n",
    "        x = self.fc1(x)\n",
    "        x = F.tanh(x)\n",
    "\n",
    "        x = self.fc2(x)\n",
    "       \n",
    "\n",
    "        return x\n",
    "\n",
    "model = Lenet()\n",
    "model"
   ]
  },
  {
   "cell_type": "code",
   "execution_count": 6,
   "id": "c5678f12",
   "metadata": {},
   "outputs": [
    {
     "name": "stdout",
     "output_type": "stream",
     "text": [
      "=================================================================\n",
      "Layer (type:depth-idx)                   Param #\n",
      "=================================================================\n",
      "├─Conv2d: 1-1                            156\n",
      "├─Conv2d: 1-2                            2,416\n",
      "├─Conv2d: 1-3                            48,120\n",
      "├─Linear: 1-4                            10,164\n",
      "├─Linear: 1-5                            850\n",
      "=================================================================\n",
      "Total params: 61,706\n",
      "Trainable params: 61,706\n",
      "Non-trainable params: 0\n",
      "=================================================================\n"
     ]
    },
    {
     "data": {
      "text/plain": [
       "=================================================================\n",
       "Layer (type:depth-idx)                   Param #\n",
       "=================================================================\n",
       "├─Conv2d: 1-1                            156\n",
       "├─Conv2d: 1-2                            2,416\n",
       "├─Conv2d: 1-3                            48,120\n",
       "├─Linear: 1-4                            10,164\n",
       "├─Linear: 1-5                            850\n",
       "=================================================================\n",
       "Total params: 61,706\n",
       "Trainable params: 61,706\n",
       "Non-trainable params: 0\n",
       "================================================================="
      ]
     },
     "execution_count": 6,
     "metadata": {},
     "output_type": "execute_result"
    }
   ],
   "source": [
    "from torchsummary import summary\n",
    "\n",
    "summary(model, input_size= (1, 32, 32))"
   ]
  },
  {
   "cell_type": "code",
   "execution_count": null,
   "id": "9a75883a",
   "metadata": {},
   "outputs": [
    {
     "name": "stdout",
     "output_type": "stream",
     "text": [
      "1 loss: 0.855470\n",
      "2 loss: 0.858443\n",
      "3 loss: 0.807681\n",
      "4 loss: 0.807971\n",
      "5 loss: 0.874304\n",
      "6 loss: 0.797727\n",
      "7 loss: 0.812084\n",
      "8 loss: 0.797004\n",
      "9 loss: 0.815461\n",
      "10 loss: 0.797027\n",
      "11 loss: 0.798380\n",
      "12 loss: 0.808834\n",
      "13 loss: 0.800814\n",
      "14 loss: 0.796650\n",
      "15 loss: 0.796874\n",
      "16 loss: 0.796626\n",
      "17 loss: 0.861566\n",
      "18 loss: 0.796684\n",
      "19 loss: 0.796652\n",
      "20 loss: 0.796667\n"
     ]
    }
   ],
   "source": [
    "lr = 1e-3\n",
    "optim = Adam(model.parameters(), lr= lr)\n",
    "epochs = 5\n",
    "criterion = nn.CrossEntropyLoss()\n",
    "\n",
    "device = 'cuda' if torch.cuda.is_available() else 'cpu'\n",
    "model.to(device)\n",
    "\n",
    "writer = SummaryWriter()\n",
    "\n",
    "step = 0\n",
    "for epoch in range(epochs):\n",
    "    for data, label in train_loader:\n",
    "        optim.zero_grad()\n",
    "        pred = model(data.to(device))\n",
    "        loss = criterion(pred, label.to(device))\n",
    "        writer.add_scalar('Loss/train', loss, step)\n",
    "        step += 1\n",
    "\n",
    "        loss.backward()\n",
    "        optim.step()\n",
    "        \n",
    "    print(f'{epoch+1} loss: {loss.item():.6f}')\n",
    "    "
   ]
  },
  {
   "cell_type": "code",
   "execution_count": 9,
   "id": "1fe913c5",
   "metadata": {},
   "outputs": [
    {
     "name": "stdout",
     "output_type": "stream",
     "text": [
      "정확도: 0.9883\n"
     ]
    }
   ],
   "source": [
    "model.eval()        # 학습용으로 쓰기 위해 가중치를 고정시키는 작업\n",
    "\n",
    "with torch.no_grad():  \n",
    "    total_corr = 0\n",
    "    for images, labels in test_loader:\n",
    "        # print(images.shape)\n",
    "        images = images.to(device)\n",
    "        labels = labels.to(device)\n",
    "\n",
    "        preds = model(images)\n",
    "\n",
    "        _, pred = torch.max(preds.data, 1)\n",
    "        total_corr = total_corr + (pred == labels).sum().item()\n",
    "                \n",
    "    print(f'정확도: {total_corr/len(test_data.targets)}')"
   ]
  },
  {
   "cell_type": "markdown",
   "id": "81a0bc64",
   "metadata": {},
   "source": [
    "1. 모델 평가코드작성\n",
    "2. png이미지를 불러온다.\n",
    "3. 이미지를 학습할때와 같이 전처리 해준다.\n",
    "4. 모델에 넣고 추론한다.\n",
    "5. [ -1, -1, -1, -1, 1.34 , , , ]"
   ]
  },
  {
   "cell_type": "code",
   "execution_count": 15,
   "id": "ea9eb13e",
   "metadata": {},
   "outputs": [
    {
     "name": "stdout",
     "output_type": "stream",
     "text": [
      "정확도: 0.9883\n"
     ]
    }
   ],
   "source": [
    "model.eval()        # 평가 모드로 전환\n",
    "with torch.no_grad():\n",
    "    total_corr = 0\n",
    "    for images, labels in test_loader:\n",
    "        images = images.to(device)\n",
    "        labels = labels.to(device)\n",
    "        preds = model(images)\n",
    "        _, pred = torch.max(preds.data, 1)\n",
    "        total_corr += (pred == labels).sum().item()\n",
    "    print(f'정확도: {total_corr/len(test_data.targets):.4f}')"
   ]
  },
  {
   "cell_type": "code",
   "execution_count": 13,
   "id": "00e220ad",
   "metadata": {},
   "outputs": [
    {
     "data": {
      "text/plain": [
       "torch.Size([1, 32, 32])"
      ]
     },
     "execution_count": 13,
     "metadata": {},
     "output_type": "execute_result"
    }
   ],
   "source": [
    "input_image = Image.open('../data/4.jpg').convert('L')\n",
    "input_image = data_transform(input_image)\n",
    "input_image.shape"
   ]
  },
  {
   "cell_type": "code",
   "execution_count": 14,
   "id": "96e04904",
   "metadata": {},
   "outputs": [
    {
     "name": "stdout",
     "output_type": "stream",
     "text": [
      "4\n"
     ]
    }
   ],
   "source": [
    "with torch.no_grad():\n",
    "    # print(images.shape)\n",
    "    input_image = input_image.to(device)\n",
    "\n",
    "\n",
    "    preds = model(input_image)\n",
    "\n",
    "    _, pred = torch.max(preds.data, 1)\n",
    "    print(pred.item())\n"
   ]
  },
  {
   "cell_type": "code",
   "execution_count": 17,
   "id": "210adbd6",
   "metadata": {},
   "outputs": [
    {
     "name": "stdout",
     "output_type": "stream",
     "text": [
      "tensor([[-1.0000, -1.0000, -1.0000, -1.0000,  1.0000, -1.0000, -1.0000, -1.0000,\n",
      "         -1.0000, -1.0000]], device='cuda:0')\n",
      "예측 결과: 4\n"
     ]
    }
   ],
   "source": [
    "from PIL import Image\n",
    "\n",
    "# 1. 이미지 불러오기 (경로는 실제 파일 위치로 수정)\n",
    "input_image = Image.open('../data/4.jpg').convert('L')\n",
    "\n",
    "# 2. 전처리 (학습 때와 동일)\n",
    "input_image = data_transform(input_image)\n",
    "\n",
    "# 3. 배치 차원 추가\n",
    "input_image = input_image.unsqueeze(0)  # shape: [1, 1, 32, 32]\n",
    "\n",
    "# 4. 디바이스 이동\n",
    "input_image = input_image.to(device)\n",
    "\n",
    "# 5. 추론\n",
    "model.eval()\n",
    "with torch.no_grad():\n",
    "    preds = model(input_image)\n",
    "    print(preds)  # [ -1, -1, -1, -1, 1.34, ... ]\n",
    "    _, pred = torch.max(preds.data, 1)\n",
    "    print(f'예측 결과: {pred.item()}')"
   ]
  }
 ],
 "metadata": {
  "kernelspec": {
   "display_name": "dl",
   "language": "python",
   "name": "python3"
  },
  "language_info": {
   "codemirror_mode": {
    "name": "ipython",
    "version": 3
   },
   "file_extension": ".py",
   "mimetype": "text/x-python",
   "name": "python",
   "nbconvert_exporter": "python",
   "pygments_lexer": "ipython3",
   "version": "3.12.11"
  }
 },
 "nbformat": 4,
 "nbformat_minor": 5
}
