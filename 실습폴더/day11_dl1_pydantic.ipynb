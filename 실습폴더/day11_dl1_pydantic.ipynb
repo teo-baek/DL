{
 "cells": [
  {
   "cell_type": "code",
   "execution_count": 4,
   "id": "d89b5579",
   "metadata": {},
   "outputs": [
    {
     "data": {
      "text/plain": [
       "User(id=123, name='홍길동', is_active=True)"
      ]
     },
     "execution_count": 4,
     "metadata": {},
     "output_type": "execute_result"
    }
   ],
   "source": [
    "from pydantic import BaseModel      # pydantic은 데이터의 유연성과 검증에 매우 좋다\n",
    "\n",
    "class User(BaseModel):\n",
    "    id: int\n",
    "    name: str\n",
    "    is_active: bool = True      # 기본값 설정\n",
    "\n",
    "user1 = User(id= '123', name= '홍길동', age= 30)\n",
    "user1"
   ]
  },
  {
   "cell_type": "code",
   "execution_count": null,
   "id": "cf512704",
   "metadata": {},
   "outputs": [
    {
     "name": "stderr",
     "output_type": "stream",
     "text": [
      "C:\\Users\\user\\AppData\\Local\\Temp\\ipykernel_26632\\34653887.py:1: PydanticDeprecatedSince20: The `json` method is deprecated; use `model_dump_json` instead. Deprecated in Pydantic V2.0 to be removed in V3.0. See Pydantic V2 Migration Guide at https://errors.pydantic.dev/2.11/migration/\n",
      "  user1.json()\n"
     ]
    },
    {
     "data": {
      "text/plain": [
       "'{\"id\":123,\"name\":\"홍길동\",\"is_active\":true}'"
      ]
     },
     "execution_count": 5,
     "metadata": {},
     "output_type": "execute_result"
    }
   ],
   "source": [
    "user1.json()        # 앞이 ' '이렇게 문자열로 묶여 있으면 json이다. 그래서 json에서는 \" \"를 써서 작성해야 한다."
   ]
  },
  {
   "cell_type": "code",
   "execution_count": null,
   "id": "627fa9b8",
   "metadata": {},
   "outputs": [],
   "source": []
  }
 ],
 "metadata": {
  "kernelspec": {
   "display_name": "dl",
   "language": "python",
   "name": "python3"
  },
  "language_info": {
   "codemirror_mode": {
    "name": "ipython",
    "version": 3
   },
   "file_extension": ".py",
   "mimetype": "text/x-python",
   "name": "python",
   "nbconvert_exporter": "python",
   "pygments_lexer": "ipython3",
   "version": "3.12.11"
  }
 },
 "nbformat": 4,
 "nbformat_minor": 5
}
