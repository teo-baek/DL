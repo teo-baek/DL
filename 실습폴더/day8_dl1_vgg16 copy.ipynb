{
 "cells": [
  {
   "cell_type": "code",
   "execution_count": 2,
   "id": "4cb73342",
   "metadata": {},
   "outputs": [],
   "source": [
    "import torch\n",
    "import torch.nn as nn\n",
    "from torch.utils.data.dataloader import DataLoader\n",
    "from torch.optim.adam import Adam\n",
    "from torchvision.datasets.cifar import CIFAR10\n",
    "from torchvision.transforms import Compose\n",
    "from torchvision.transforms import RandomCrop, RandomHorizontalFlip, Normalize\n",
    "import torchvision.transforms as T"
   ]
  },
  {
   "cell_type": "code",
   "execution_count": 9,
   "id": "a62966c7",
   "metadata": {},
   "outputs": [],
   "source": [
    "transforms = Compose([\n",
    "    RandomCrop((32, 32), padding= 4),\n",
    "    RandomHorizontalFlip(p= 0.5),\n",
    "    T.ToTensor(),\n",
    "    Normalize(mean= (0.4914, 0.4822, 0.4465), std= (0.247, 0.243, 0.261))\n",
    "])\n",
    "\n",
    "train_data = CIFAR10(root= './', train= True, transform= transforms, download= True)\n",
    "test_data = CIFAR10(root= './', train= False, transform= transforms, download= True)"
   ]
  },
  {
   "cell_type": "code",
   "execution_count": 10,
   "id": "08b1bce1",
   "metadata": {},
   "outputs": [],
   "source": [
    "train_loader = DataLoader(train_data, batch_size= 32, shuffle= True) \n",
    "test_loader = DataLoader(test_data, batch_size= 32, shuffle= False)"
   ]
  },
  {
   "cell_type": "code",
   "execution_count": 11,
   "id": "a9d8ae45",
   "metadata": {},
   "outputs": [
    {
     "data": {
      "text/plain": [
       "torch.Size([32, 3, 32, 32])"
      ]
     },
     "execution_count": 11,
     "metadata": {},
     "output_type": "execute_result"
    }
   ],
   "source": [
    "img_data = iter(train_loader)\n",
    "images, labels = next(img_data)\n",
    "images.shape"
   ]
  },
  {
   "cell_type": "code",
   "execution_count": 12,
   "id": "446e3030",
   "metadata": {},
   "outputs": [],
   "source": [
    "img_data = images[7]"
   ]
  },
  {
   "cell_type": "code",
   "execution_count": 15,
   "id": "35a3388c",
   "metadata": {},
   "outputs": [
    {
     "data": {
      "image/png": "[encoded data removed]",
      "text/plain": [
       "<Figure size 640x480 with 1 Axes>"
      ]
     },
     "metadata": {},
     "output_type": "display_data"
    }
   ],
   "source": [
    "import matplotlib.pyplot as plt\n",
    "import numpy as np\n",
    "\n",
    "def denomalize(img, mean, std):\n",
    "    mean = torch.tensor(mean).view(3, 1, 1)\n",
    "    std = torch.tensor(std).view(3, 1, 1)\n",
    "    return img * std + mean\n",
    "\n",
    "def View_img(image):\n",
    "    mean = (0.4914, 0.4822, 0.4465)\n",
    "    std = (0.247, 0.243, 0.261)\n",
    "\n",
    "    img_data = denomalize(image, mean, std)\n",
    "    img_data = img_data.numpy()\n",
    "    plt.imshow(np.transpose(img_data, (1, 2, 0)))\n",
    "    plt.show()\n",
    "\n",
    "View_img(images[0])"
   ]
  },
  {
   "cell_type": "code",
   "execution_count": null,
   "id": "11e243b8",
   "metadata": {},
   "outputs": [],
   "source": [
    "class BasicBlock(nn.module):\n",
    "    def __init__(self, in_channels, out_channels, hidden_dim):\n",
    "        super(BasicBlock, self).__init__()\n",
    "        "
   ]
  }
 ],
 "metadata": {
  "kernelspec": {
   "display_name": "dl",
   "language": "python",
   "name": "python3"
  },
  "language_info": {
   "codemirror_mode": {
    "name": "ipython",
    "version": 3
   },
   "file_extension": ".py",
   "mimetype": "text/x-python",
   "name": "python",
   "nbconvert_exporter": "python",
   "pygments_lexer": "ipython3",
   "version": "3.12.11"
  }
 },
 "nbformat": 4,
 "nbformat_minor": 5
}
