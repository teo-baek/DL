{
 "cells": [
  {
   "cell_type": "markdown",
   "id": "daca6327",
   "metadata": {},
   "source": [
    "# 데이터 전처리"
   ]
  },
  {
   "cell_type": "code",
   "execution_count": 1,
   "id": "a2b9c85e",
   "metadata": {},
   "outputs": [],
   "source": [
    "from torchvision import transforms, datasets\n",
    "from torch.utils.data import DataLoader"
   ]
  },
  {
   "cell_type": "code",
   "execution_count": 4,
   "id": "cfdd2175",
   "metadata": {},
   "outputs": [],
   "source": [
    "# 훈련 데이터 전처리\n",
    "train_transform = transforms.Compose([\n",
    "    transforms.Resize((256, 256)),\n",
    "    transforms.CenterCrop(224,),\n",
    "    transforms.RandomHorizontalFlip(p=0.5),\n",
    "    transforms.RandomRotation(10),\n",
    "    transforms.ColorJitter(brightness= 0.2, contrast= 0.2),\n",
    "    transforms.ToTensor(),\n",
    "    transforms.Normalize([0.485, 0.456, 0.406], [0.229, 0.224, 0.225])\n",
    "])\n",
    "\n",
    "# 검증 데이터 전처리\n",
    "eval_transform = transforms.Compose([\n",
    "    transforms.Resize((256, 256)),\n",
    "    transforms.CenterCrop(224),\n",
    "    transforms.CenterCrop(224),\n",
    "    transforms.Normalize([0.485, 0.456, 0.406], [0.229, 0.224, 0.225])  \n",
    "])\n",
    "\n",
    "# 데이터셋 로딩\n",
    "train_dataset = datasets.ImageFolder('C:/DL/data/chest_xray/train', transform= train_transform)\n",
    "val_dataset = datasets.ImageFolder('C:/DL/data/chest_xray/val', transform= eval_transform)\n",
    "test_dataset = datasets.ImageFolder('C:/DL/data/chest_xray/test', transform= eval_transform)\n",
    "\n",
    "# 데이터로더 설정\n",
    "train_loader = DataLoader(train_dataset, batch_size= 32, shuffle= True)\n",
    "val_loader = DataLoader(val_dataset, batch_size= 32)\n",
    "test_loader = DataLoader(test_dataset, batch_size= 32)"
   ]
  },
  {
   "cell_type": "markdown",
   "id": "b5d0285f",
   "metadata": {},
   "source": [
    "# 모델 불러오기"
   ]
  },
  {
   "cell_type": "code",
   "execution_count": null,
   "id": "11fc33d8",
   "metadata": {},
   "outputs": [
    {
     "name": "stdout",
     "output_type": "stream",
     "text": [
      "Loaded pretrained weights for efficientnet-b0\n"
     ]
    }
   ],
   "source": [
    "from efficientnet_pytorch import EfficientNet\n",
    "import torch.nn as nn\n",
    "import torch\n",
    "\n",
    "device = 'cuda' if torch.cuda.is_available else 'cpu'\n",
    "\n",
    "# EfficientNet-b0 불러오기\n",
    "model = EfficientNet.from_pretrained('efficientnet-b0')\n",
    "model._fc = nn.Linear(model._fc.in_features, 2)\n",
    "model = model.to(device)"
   ]
  },
  {
   "cell_type": "markdown",
   "id": "ae4f1baf",
   "metadata": {},
   "source": [
    "# 학습 루프"
   ]
  },
  {
   "cell_type": "code",
   "execution_count": null,
   "id": "e4bb8729",
   "metadata": {},
   "outputs": [],
   "source": [
    "import torch\n",
    "import torch.nn as nn\n",
    "import torch.optim as optim\n",
    "from torch.cuda.amp import GradScaler, autocast\n",
    "from torch.optim.lr_scheduler import ReduceLROnPlateau\n",
    "from torchvision.models import efficientnet_b0\n",
    "import time\n",
    "\n",
    "# 모델, 손실 함수, 옵티마이저 설정\n",
    "model = efficientnet_b0(pretrained= True)\n",
    "model.classifier[1] = nn.Linear(model.classifier[1].in_features, 2)\n",
    "model = model.to(device)\n",
    "\n",
    "criterion = nn.CrossEntropyLoss()\n",
    "optimizer = optim.Adam(model.parameters(), lr= 1e-4)\n",
    "scheduler = ReduceLROnPlateau(optimizer, mode= min, factor= 0.5, patience= 3)"
   ]
  }
 ],
 "metadata": {
  "kernelspec": {
   "display_name": "dl",
   "language": "python",
   "name": "python3"
  },
  "language_info": {
   "codemirror_mode": {
    "name": "ipython",
    "version": 3
   },
   "file_extension": ".py",
   "mimetype": "text/x-python",
   "name": "python",
   "nbconvert_exporter": "python",
   "pygments_lexer": "ipython3",
   "version": "3.12.11"
  }
 },
 "nbformat": 4,
 "nbformat_minor": 5
}
