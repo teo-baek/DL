{
 "cells": [
  {
   "cell_type": "code",
   "execution_count": 1,
   "id": "af79f2d7",
   "metadata": {},
   "outputs": [],
   "source": [
    "import torch\n",
    "import torch.nn as nn"
   ]
  },
  {
   "cell_type": "markdown",
   "id": "ad1646a8",
   "metadata": {},
   "source": [
    "# 가중치만 저장된 모델을 불러올 경우"
   ]
  },
  {
   "cell_type": "code",
   "execution_count": null,
   "id": "7bce55a8",
   "metadata": {},
   "outputs": [],
   "source": [
    "class SimpleModel(nn.Module):\n",
    "    def __init__(self):\n",
    "        super(SimpleModel, self).__init__()\n",
    "        self.fc = nn.Linear(10, 2)\n",
    "\n",
    "    def forward(self, x):\n",
    "        return self.fc(x)\n",
    "    \n",
    "model = SimpleModel()\n",
    "model.load_state_dict(torch.load('model_weight.pth'))\n",
    "\n",
    "# 가중치만 저장한 모델을 불러올 경우, 세팅한 모델 코드 자체를 그대로 가져와서 사용해야 한다. \n",
    "# torch.save(model.state_dic()) 모델에 가중치 저장만 할 경우 내가 파라미터 값을 어떻게 설정했는 지 기억해두어야 한다.\n",
    "# 가중치만 저장할 경우 초기에 저장할 때, 애초에 모델명을 적어서 저장하는 게 좋다. 'SimpleModel_weight.pth'"
   ]
  }
 ],
 "metadata": {
  "kernelspec": {
   "display_name": "dl",
   "language": "python",
   "name": "python3"
  },
  "language_info": {
   "codemirror_mode": {
    "name": "ipython",
    "version": 3
   },
   "file_extension": ".py",
   "mimetype": "text/x-python",
   "name": "python",
   "nbconvert_exporter": "python",
   "pygments_lexer": "ipython3",
   "version": "3.12.11"
  }
 },
 "nbformat": 4,
 "nbformat_minor": 5
}
